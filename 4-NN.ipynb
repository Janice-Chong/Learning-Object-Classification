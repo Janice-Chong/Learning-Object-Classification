{
 "cells": [
  {
   "cell_type": "code",
   "execution_count": 41,
   "id": "4c7c8272",
   "metadata": {},
   "outputs": [],
   "source": [
    "import pandas as pd\n",
    "from sklearn.model_selection import train_test_split\n",
    "from sklearn.metrics import accuracy_score\n",
    "from sklearn.neural_network import MLPClassifier"
   ]
  },
  {
   "cell_type": "code",
   "execution_count": 42,
   "id": "3faaece0",
   "metadata": {},
   "outputs": [],
   "source": [
    "# Load the CSV file containing responses\n",
    "df = pd.read_csv('Dataset/encoded_response.csv')"
   ]
  },
  {
   "cell_type": "code",
   "execution_count": 43,
   "id": "053948c2",
   "metadata": {},
   "outputs": [],
   "source": [
    "# # Target variable: Learning Objects Preference\n",
    "target = df[[\n",
    "    'Learning Objects [Slide presentation]',\n",
    "    'Learning Objects [Book]',\n",
    "    'Learning Objects [Lecture Note]',\n",
    "    'Learning Objects [Educational game]',\n",
    "    'Learning Objects [Video]',\n",
    "    'Learning Objects [Audio-recorded lecture]',\n",
    "    'Learning Objects [Animated instruction]',\n",
    "    'Learning Objects [Real object model]',\n",
    "    'Learning Objects [Mind Map]',\n",
    "    'Learning Objects [Multimedia content]',\n",
    "    'Learning Objects [Interactive Tool]',\n",
    "    'Learning Objects [Technology-supported learning include computer-based training systems]',\n",
    "    'Learning Objects [Intelligent computer-aided instruction systems]'\n",
    "]]"
   ]
  },
  {
   "cell_type": "code",
   "execution_count": 44,
   "id": "48ede84b",
   "metadata": {},
   "outputs": [],
   "source": [
    "# Split the data into training and testing sets\n",
    "X_train, X_test, y_train, y_test = train_test_split(df.drop(target.columns, axis=1), target, test_size=0.25, random_state=42)"
   ]
  },
  {
   "cell_type": "code",
   "execution_count": 45,
   "id": "f2249b8f",
   "metadata": {},
   "outputs": [],
   "source": [
    "# Create a RandomForestClassifier for each learning object\n",
    "classifiers = {}\n",
    "for col in target.columns:\n",
    "    classifier = MLPClassifier(hidden_layer_sizes=(50, 50), max_iter=1000, random_state=42)\n",
    "    classifier.fit(X_train, y_train[col])\n",
    "    classifiers[col] = classifier"
   ]
  },
  {
   "cell_type": "code",
   "execution_count": 46,
   "id": "1d80e794",
   "metadata": {},
   "outputs": [
    {
     "name": "stdout",
     "output_type": "stream",
     "text": [
      "Model Accuracy for Learning Objects:\n",
      "Learning Objects [Slide presentation]: 0.5907335907335908\n",
      "Learning Objects [Book]: 0.640926640926641\n",
      "Learning Objects [Lecture Note]: 0.5984555984555985\n",
      "Learning Objects [Educational game]: 0.5752895752895753\n",
      "Learning Objects [Video]: 0.6177606177606177\n",
      "Learning Objects [Audio-recorded lecture]: 0.6911196911196911\n",
      "Learning Objects [Animated instruction]: 0.5598455598455598\n",
      "Learning Objects [Real object model]: 0.6138996138996139\n",
      "Learning Objects [Mind Map]: 0.5791505791505791\n",
      "Learning Objects [Multimedia content]: 0.5791505791505791\n",
      "Learning Objects [Interactive Tool]: 0.5752895752895753\n",
      "Learning Objects [Technology-supported learning include computer-based training systems]: 0.5328185328185329\n",
      "Learning Objects [Intelligent computer-aided instruction systems]: 0.6332046332046332\n",
      "Mean accuracy:  0.5990495990495991\n"
     ]
    }
   ],
   "source": [
    "# Make predictions on the testing set for each learning object\n",
    "y_pred = pd.DataFrame({col: classifier.predict(X_test) for col, classifier in classifiers.items()})\n",
    "\n",
    "sum_acc = 0\n",
    "mean_acc = 0\n",
    "\n",
    "# Evaluate the model for each learning object\n",
    "accuracy = {col: accuracy_score(y_test[col], y_pred[col]) for col in target.columns}\n",
    "print(\"Model Accuracy for Learning Objects:\")\n",
    "for col, acc in accuracy.items():\n",
    "    print(f\"{col}: {acc}\")\n",
    "    sum_acc += acc\n",
    "    \n",
    "mean_acc = sum_acc/13\n",
    "print(\"Mean accuracy: \", mean_acc)"
   ]
  },
  {
   "cell_type": "markdown",
   "id": "398c8752",
   "metadata": {},
   "source": [
    "test_size=0.25 -- 0.7796 -- 0.5990  "
   ]
  },
  {
   "cell_type": "markdown",
   "id": "8314d5ce",
   "metadata": {},
   "source": [
    "### Make predictions on a new data"
   ]
  },
  {
   "cell_type": "code",
   "execution_count": 49,
   "id": "05b7c8e0",
   "metadata": {},
   "outputs": [],
   "source": [
    "data = pd.read_csv(\"Dataset/data.csv\")"
   ]
  },
  {
   "cell_type": "code",
   "execution_count": 50,
   "id": "a6aa964a",
   "metadata": {},
   "outputs": [
    {
     "data": {
      "text/html": [
       "<div>\n",
       "<style scoped>\n",
       "    .dataframe tbody tr th:only-of-type {\n",
       "        vertical-align: middle;\n",
       "    }\n",
       "\n",
       "    .dataframe tbody tr th {\n",
       "        vertical-align: top;\n",
       "    }\n",
       "\n",
       "    .dataframe thead th {\n",
       "        text-align: right;\n",
       "    }\n",
       "</style>\n",
       "<table border=\"1\" class=\"dataframe\">\n",
       "  <thead>\n",
       "    <tr style=\"text-align: right;\">\n",
       "      <th></th>\n",
       "      <th>Learning Objects [Slide presentation]</th>\n",
       "      <th>Learning Objects [Book]</th>\n",
       "      <th>Learning Objects [Lecture Note]</th>\n",
       "      <th>Learning Objects [Educational game]</th>\n",
       "      <th>Learning Objects [Video]</th>\n",
       "      <th>Learning Objects [Audio-recorded lecture]</th>\n",
       "      <th>Learning Objects [Animated instruction]</th>\n",
       "      <th>Learning Objects [Real object model]</th>\n",
       "      <th>Learning Objects [Mind Map]</th>\n",
       "      <th>Learning Objects [Multimedia content]</th>\n",
       "      <th>Learning Objects [Interactive Tool]</th>\n",
       "      <th>Learning Objects [Technology-supported learning include computer-based training systems]</th>\n",
       "      <th>Learning Objects [Intelligent computer-aided instruction systems]</th>\n",
       "    </tr>\n",
       "  </thead>\n",
       "  <tbody>\n",
       "    <tr>\n",
       "      <th>0</th>\n",
       "      <td>1</td>\n",
       "      <td>1</td>\n",
       "      <td>1</td>\n",
       "      <td>0</td>\n",
       "      <td>1</td>\n",
       "      <td>1</td>\n",
       "      <td>0</td>\n",
       "      <td>1</td>\n",
       "      <td>1</td>\n",
       "      <td>1</td>\n",
       "      <td>1</td>\n",
       "      <td>1</td>\n",
       "      <td>1</td>\n",
       "    </tr>\n",
       "  </tbody>\n",
       "</table>\n",
       "</div>"
      ],
      "text/plain": [
       "   Learning Objects [Slide presentation]  Learning Objects [Book]  \\\n",
       "0                                      1                        1   \n",
       "\n",
       "   Learning Objects [Lecture Note]  Learning Objects [Educational game]  \\\n",
       "0                                1                                    0   \n",
       "\n",
       "   Learning Objects [Video]  Learning Objects [Audio-recorded lecture]  \\\n",
       "0                         1                                          1   \n",
       "\n",
       "   Learning Objects [Animated instruction]  \\\n",
       "0                                        0   \n",
       "\n",
       "   Learning Objects [Real object model]  Learning Objects [Mind Map]  \\\n",
       "0                                     1                            1   \n",
       "\n",
       "   Learning Objects [Multimedia content]  Learning Objects [Interactive Tool]  \\\n",
       "0                                      1                                    1   \n",
       "\n",
       "   Learning Objects [Technology-supported learning include computer-based training systems]  \\\n",
       "0                                                  1                                          \n",
       "\n",
       "   Learning Objects [Intelligent computer-aided instruction systems]  \n",
       "0                                                  1                  "
      ]
     },
     "execution_count": 50,
     "metadata": {},
     "output_type": "execute_result"
    }
   ],
   "source": [
    "predictions = pd.DataFrame({col: classifier.predict(data) for col, classifier in classifiers.items()})\n",
    "predictions.head()"
   ]
  },
  {
   "cell_type": "code",
   "execution_count": null,
   "id": "e10117c3",
   "metadata": {},
   "outputs": [],
   "source": []
  }
 ],
 "metadata": {
  "kernelspec": {
   "display_name": "Python 3 (ipykernel)",
   "language": "python",
   "name": "python3"
  },
  "language_info": {
   "codemirror_mode": {
    "name": "ipython",
    "version": 3
   },
   "file_extension": ".py",
   "mimetype": "text/x-python",
   "name": "python",
   "nbconvert_exporter": "python",
   "pygments_lexer": "ipython3",
   "version": "3.9.18"
  }
 },
 "nbformat": 4,
 "nbformat_minor": 5
}
