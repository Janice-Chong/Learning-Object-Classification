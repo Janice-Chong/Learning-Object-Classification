{
 "cells": [
  {
   "cell_type": "markdown",
   "id": "05d0a4fc",
   "metadata": {},
   "source": [
    "# SVM Model\n",
    "- Trained with VAK qeustions\n",
    "- So far, has the highest accuracy"
   ]
  },
  {
   "cell_type": "code",
   "execution_count": 20,
   "id": "4c7c8272",
   "metadata": {},
   "outputs": [],
   "source": [
    "import pandas as pd\n",
    "from sklearn.model_selection import train_test_split\n",
    "from sklearn.svm import SVC\n",
    "from sklearn.metrics import accuracy_score, classification_report\n",
    "\n",
    "import joblib\n",
    "from sklearn.model_selection import GridSearchCV"
   ]
  },
  {
   "cell_type": "code",
   "execution_count": 21,
   "id": "3faaece0",
   "metadata": {},
   "outputs": [
    {
     "data": {
      "text/html": [
       "<div>\n",
       "<style scoped>\n",
       "    .dataframe tbody tr th:only-of-type {\n",
       "        vertical-align: middle;\n",
       "    }\n",
       "\n",
       "    .dataframe tbody tr th {\n",
       "        vertical-align: top;\n",
       "    }\n",
       "\n",
       "    .dataframe thead th {\n",
       "        text-align: right;\n",
       "    }\n",
       "</style>\n",
       "<table border=\"1\" class=\"dataframe\">\n",
       "  <thead>\n",
       "    <tr style=\"text-align: right;\">\n",
       "      <th></th>\n",
       "      <th>Gender</th>\n",
       "      <th>Level of Study</th>\n",
       "      <th>Household Income</th>\n",
       "      <th>Learning Objects [Slide presentation]</th>\n",
       "      <th>Learning Objects [Book]</th>\n",
       "      <th>Learning Objects [Lecture Note]</th>\n",
       "      <th>Learning Objects [Educational game]</th>\n",
       "      <th>Learning Objects [Video]</th>\n",
       "      <th>Learning Objects [Audio-recorded lecture]</th>\n",
       "      <th>Learning Objects [Animated instruction]</th>\n",
       "      <th>...</th>\n",
       "      <th>30. When I'm meeting with an old friend_I say \"it's great to see you!\"</th>\n",
       "      <th>Preferred learning mode_Asynchronous Online Learning (On your own time)</th>\n",
       "      <th>Preferred learning mode_Face to Face</th>\n",
       "      <th>Preferred learning mode_Synchronous Online Learning (Real Time)</th>\n",
       "      <th>Preferred Communication Platform_Call</th>\n",
       "      <th>Preferred Communication Platform_Email</th>\n",
       "      <th>Preferred Communication Platform_Others</th>\n",
       "      <th>Preferred Communication Platform_Telegram</th>\n",
       "      <th>Preferred Communication Platform_University eLearning Chat Room</th>\n",
       "      <th>Preferred Communication Platform_Whatsapp</th>\n",
       "    </tr>\n",
       "  </thead>\n",
       "  <tbody>\n",
       "    <tr>\n",
       "      <th>0</th>\n",
       "      <td>2</td>\n",
       "      <td>1</td>\n",
       "      <td>2</td>\n",
       "      <td>0</td>\n",
       "      <td>0</td>\n",
       "      <td>0</td>\n",
       "      <td>0</td>\n",
       "      <td>0</td>\n",
       "      <td>0</td>\n",
       "      <td>0</td>\n",
       "      <td>...</td>\n",
       "      <td>False</td>\n",
       "      <td>False</td>\n",
       "      <td>True</td>\n",
       "      <td>False</td>\n",
       "      <td>False</td>\n",
       "      <td>False</td>\n",
       "      <td>False</td>\n",
       "      <td>False</td>\n",
       "      <td>False</td>\n",
       "      <td>True</td>\n",
       "    </tr>\n",
       "    <tr>\n",
       "      <th>1</th>\n",
       "      <td>2</td>\n",
       "      <td>1</td>\n",
       "      <td>2</td>\n",
       "      <td>0</td>\n",
       "      <td>0</td>\n",
       "      <td>0</td>\n",
       "      <td>0</td>\n",
       "      <td>0</td>\n",
       "      <td>0</td>\n",
       "      <td>0</td>\n",
       "      <td>...</td>\n",
       "      <td>False</td>\n",
       "      <td>False</td>\n",
       "      <td>False</td>\n",
       "      <td>True</td>\n",
       "      <td>False</td>\n",
       "      <td>False</td>\n",
       "      <td>False</td>\n",
       "      <td>False</td>\n",
       "      <td>False</td>\n",
       "      <td>True</td>\n",
       "    </tr>\n",
       "    <tr>\n",
       "      <th>2</th>\n",
       "      <td>2</td>\n",
       "      <td>1</td>\n",
       "      <td>2</td>\n",
       "      <td>1</td>\n",
       "      <td>0</td>\n",
       "      <td>1</td>\n",
       "      <td>0</td>\n",
       "      <td>0</td>\n",
       "      <td>0</td>\n",
       "      <td>0</td>\n",
       "      <td>...</td>\n",
       "      <td>True</td>\n",
       "      <td>False</td>\n",
       "      <td>True</td>\n",
       "      <td>False</td>\n",
       "      <td>False</td>\n",
       "      <td>True</td>\n",
       "      <td>False</td>\n",
       "      <td>False</td>\n",
       "      <td>False</td>\n",
       "      <td>False</td>\n",
       "    </tr>\n",
       "    <tr>\n",
       "      <th>3</th>\n",
       "      <td>2</td>\n",
       "      <td>1</td>\n",
       "      <td>2</td>\n",
       "      <td>1</td>\n",
       "      <td>0</td>\n",
       "      <td>1</td>\n",
       "      <td>0</td>\n",
       "      <td>0</td>\n",
       "      <td>0</td>\n",
       "      <td>0</td>\n",
       "      <td>...</td>\n",
       "      <td>True</td>\n",
       "      <td>False</td>\n",
       "      <td>True</td>\n",
       "      <td>False</td>\n",
       "      <td>False</td>\n",
       "      <td>False</td>\n",
       "      <td>False</td>\n",
       "      <td>False</td>\n",
       "      <td>True</td>\n",
       "      <td>False</td>\n",
       "    </tr>\n",
       "    <tr>\n",
       "      <th>4</th>\n",
       "      <td>2</td>\n",
       "      <td>1</td>\n",
       "      <td>2</td>\n",
       "      <td>1</td>\n",
       "      <td>0</td>\n",
       "      <td>1</td>\n",
       "      <td>0</td>\n",
       "      <td>0</td>\n",
       "      <td>0</td>\n",
       "      <td>0</td>\n",
       "      <td>...</td>\n",
       "      <td>True</td>\n",
       "      <td>False</td>\n",
       "      <td>True</td>\n",
       "      <td>False</td>\n",
       "      <td>False</td>\n",
       "      <td>False</td>\n",
       "      <td>False</td>\n",
       "      <td>False</td>\n",
       "      <td>False</td>\n",
       "      <td>True</td>\n",
       "    </tr>\n",
       "  </tbody>\n",
       "</table>\n",
       "<p>5 rows × 118 columns</p>\n",
       "</div>"
      ],
      "text/plain": [
       "   Gender  Level of Study  Household Income  \\\n",
       "0       2               1                 2   \n",
       "1       2               1                 2   \n",
       "2       2               1                 2   \n",
       "3       2               1                 2   \n",
       "4       2               1                 2   \n",
       "\n",
       "   Learning Objects [Slide presentation]  Learning Objects [Book]  \\\n",
       "0                                      0                        0   \n",
       "1                                      0                        0   \n",
       "2                                      1                        0   \n",
       "3                                      1                        0   \n",
       "4                                      1                        0   \n",
       "\n",
       "   Learning Objects [Lecture Note]  Learning Objects [Educational game]  \\\n",
       "0                                0                                    0   \n",
       "1                                0                                    0   \n",
       "2                                1                                    0   \n",
       "3                                1                                    0   \n",
       "4                                1                                    0   \n",
       "\n",
       "   Learning Objects [Video]  Learning Objects [Audio-recorded lecture]  \\\n",
       "0                         0                                          0   \n",
       "1                         0                                          0   \n",
       "2                         0                                          0   \n",
       "3                         0                                          0   \n",
       "4                         0                                          0   \n",
       "\n",
       "   Learning Objects [Animated instruction]  ...  \\\n",
       "0                                        0  ...   \n",
       "1                                        0  ...   \n",
       "2                                        0  ...   \n",
       "3                                        0  ...   \n",
       "4                                        0  ...   \n",
       "\n",
       "   30. When I'm meeting with an old friend_I say \"it's great to see you!\"  \\\n",
       "0                                              False                        \n",
       "1                                              False                        \n",
       "2                                               True                        \n",
       "3                                               True                        \n",
       "4                                               True                        \n",
       "\n",
       "   Preferred learning mode_Asynchronous Online Learning (On your own time)  \\\n",
       "0                                              False                         \n",
       "1                                              False                         \n",
       "2                                              False                         \n",
       "3                                              False                         \n",
       "4                                              False                         \n",
       "\n",
       "   Preferred learning mode_Face to Face  \\\n",
       "0                                  True   \n",
       "1                                 False   \n",
       "2                                  True   \n",
       "3                                  True   \n",
       "4                                  True   \n",
       "\n",
       "   Preferred learning mode_Synchronous Online Learning (Real Time)  \\\n",
       "0                                              False                 \n",
       "1                                               True                 \n",
       "2                                              False                 \n",
       "3                                              False                 \n",
       "4                                              False                 \n",
       "\n",
       "   Preferred Communication Platform_Call  \\\n",
       "0                                  False   \n",
       "1                                  False   \n",
       "2                                  False   \n",
       "3                                  False   \n",
       "4                                  False   \n",
       "\n",
       "   Preferred Communication Platform_Email  \\\n",
       "0                                   False   \n",
       "1                                   False   \n",
       "2                                    True   \n",
       "3                                   False   \n",
       "4                                   False   \n",
       "\n",
       "   Preferred Communication Platform_Others  \\\n",
       "0                                    False   \n",
       "1                                    False   \n",
       "2                                    False   \n",
       "3                                    False   \n",
       "4                                    False   \n",
       "\n",
       "   Preferred Communication Platform_Telegram  \\\n",
       "0                                      False   \n",
       "1                                      False   \n",
       "2                                      False   \n",
       "3                                      False   \n",
       "4                                      False   \n",
       "\n",
       "   Preferred Communication Platform_University eLearning Chat Room  \\\n",
       "0                                              False                 \n",
       "1                                              False                 \n",
       "2                                              False                 \n",
       "3                                               True                 \n",
       "4                                              False                 \n",
       "\n",
       "   Preferred Communication Platform_Whatsapp  \n",
       "0                                       True  \n",
       "1                                       True  \n",
       "2                                      False  \n",
       "3                                      False  \n",
       "4                                       True  \n",
       "\n",
       "[5 rows x 118 columns]"
      ]
     },
     "execution_count": 21,
     "metadata": {},
     "output_type": "execute_result"
    }
   ],
   "source": [
    "# Load the CSV file containing responses\n",
    "df = pd.read_csv('Dataset/encoded_new_response_withQues.csv')\n",
    "df.head()"
   ]
  },
  {
   "cell_type": "markdown",
   "id": "12f8b035",
   "metadata": {},
   "source": [
    "### Define target variables"
   ]
  },
  {
   "cell_type": "code",
   "execution_count": 22,
   "id": "053948c2",
   "metadata": {},
   "outputs": [],
   "source": [
    "# # Target variable: Learning Objects Preference\n",
    "target = df[[\n",
    "    'Learning Objects [Slide presentation]',\n",
    "    'Learning Objects [Book]',\n",
    "    'Learning Objects [Lecture Note]',\n",
    "    'Learning Objects [Educational game]',\n",
    "    'Learning Objects [Video]',\n",
    "    'Learning Objects [Audio-recorded lecture]',\n",
    "    'Learning Objects [Animated instruction]',\n",
    "    'Learning Objects [Real object model]',\n",
    "    'Learning Objects [Mind Map]',\n",
    "    'Learning Objects [Multimedia content]',\n",
    "    'Learning Objects [Interactive Tool]',\n",
    "    'Learning Objects [Technology-supported learning include computer-based training systems]',\n",
    "    'Learning Objects [Intelligent computer-aided instruction systems]'\n",
    "]]"
   ]
  },
  {
   "cell_type": "markdown",
   "id": "47f0b31a",
   "metadata": {},
   "source": [
    "### Split test and train data"
   ]
  },
  {
   "cell_type": "code",
   "execution_count": 23,
   "id": "48ede84b",
   "metadata": {},
   "outputs": [],
   "source": [
    "# Split the data into training and testing sets\n",
    "X_train, X_test, y_train, y_test = train_test_split(df.drop(target.columns, axis=1), target, test_size=0.25, random_state=42)"
   ]
  },
  {
   "cell_type": "markdown",
   "id": "c5520bae",
   "metadata": {},
   "source": [
    "### Train model\n",
    "- use GridSearchCV to find the best parameters which will give the highest accuracy\n",
    "- save the model using joblib"
   ]
  },
  {
   "cell_type": "code",
   "execution_count": 24,
   "id": "f2249b8f",
   "metadata": {},
   "outputs": [
    {
     "name": "stdout",
     "output_type": "stream",
     "text": [
      "Model Accuracy for Learning Objects [Slide presentation]: 0.9547413793103449\n",
      "Model Accuracy for Learning Objects [Book]: 0.9665948275862069\n",
      "Model Accuracy for Learning Objects [Lecture Note]: 0.9633620689655172\n",
      "Model Accuracy for Learning Objects [Educational game]: 0.9601293103448276\n",
      "Model Accuracy for Learning Objects [Video]: 0.9536637931034483\n",
      "Model Accuracy for Learning Objects [Audio-recorded lecture]: 0.9612068965517241\n",
      "Model Accuracy for Learning Objects [Animated instruction]: 0.9612068965517241\n",
      "Model Accuracy for Learning Objects [Real object model]: 0.9525862068965517\n",
      "Model Accuracy for Learning Objects [Mind Map]: 0.9622844827586207\n",
      "Model Accuracy for Learning Objects [Multimedia content]: 0.959051724137931\n",
      "Model Accuracy for Learning Objects [Interactive Tool]: 0.9558189655172413\n",
      "Model Accuracy for Learning Objects [Technology-supported learning include computer-based training systems]: 0.9644396551724138\n",
      "Model Accuracy for Learning Objects [Intelligent computer-aided instruction systems]: 0.9665948275862069\n"
     ]
    }
   ],
   "source": [
    "# Create a dictionary to hold the best estimators after grid search\n",
    "best_estimators = {}\n",
    "\n",
    "# Iterate through each learning object\n",
    "for col in target.columns:\n",
    "    # Define the parameter grid\n",
    "    param_grid = {\n",
    "        'C': [1],  # Expanded range of C values\n",
    "        'gamma': [0.1],  # More options for gamma\n",
    "        'kernel': ['rbf']  # Diverse kernel options\n",
    "    }\n",
    "    \n",
    "    # Instantiate GridSearchCV\n",
    "    grid_search = GridSearchCV(SVC(random_state=42), param_grid, cv=5, scoring='accuracy')\n",
    "    \n",
    "    # Fit the grid search to the data for the current learning object\n",
    "    grid_search.fit(X_train, y_train[col])\n",
    "    \n",
    "    # Get the best parameters and best estimator for the current learning object\n",
    "    best_params = grid_search.best_params_\n",
    "    best_estimator = grid_search.best_estimator_\n",
    "    \n",
    "    # Store the best estimator in the dictionary for later use if needed\n",
    "    best_estimators[col] = best_estimator\n",
    "    \n",
    "    # Evaluate the model on the validation set\n",
    "    y_pred = best_estimator.predict(X_test)\n",
    "    accuracy = accuracy_score(y_test[col], y_pred)\n",
    "    print(f\"Model Accuracy for {col}: {accuracy}\")\n",
    "    \n"
   ]
  },
  {
   "cell_type": "code",
   "execution_count": 25,
   "id": "6f7123c7",
   "metadata": {},
   "outputs": [
    {
     "data": {
      "text/plain": [
       "['Model/svm_new_model.joblib']"
      ]
     },
     "execution_count": 25,
     "metadata": {},
     "output_type": "execute_result"
    }
   ],
   "source": [
    "# Save the trained SVM model to a file\n",
    "joblib.dump(best_estimators, \"Model/svm_new_model.joblib\")"
   ]
  },
  {
   "cell_type": "code",
   "execution_count": 26,
   "id": "7e0ef30e",
   "metadata": {},
   "outputs": [
    {
     "name": "stdout",
     "output_type": "stream",
     "text": [
      "best_params: {'C': 1, 'gamma': 0.1, 'kernel': 'rbf'}\n"
     ]
    }
   ],
   "source": [
    "print('best_params:', best_params)"
   ]
  },
  {
   "cell_type": "markdown",
   "id": "ff34a0d3",
   "metadata": {},
   "source": [
    "best_params: {'C': 1, 'gamma': 0.1, 'kernel': 'rbf'}"
   ]
  },
  {
   "cell_type": "markdown",
   "id": "9364eb2a",
   "metadata": {},
   "source": [
    "### Check model accuracy\n",
    "- use classification_report"
   ]
  },
  {
   "cell_type": "code",
   "execution_count": 27,
   "id": "31e7defd",
   "metadata": {},
   "outputs": [],
   "source": [
    "# Import the saved model\n",
    "svm_model = joblib.load(\"Model/svm_new_model.joblib\")"
   ]
  },
  {
   "cell_type": "code",
   "execution_count": 28,
   "id": "7f58d36b",
   "metadata": {},
   "outputs": [
    {
     "name": "stdout",
     "output_type": "stream",
     "text": [
      "Classification Report:\n",
      "              precision    recall  f1-score   support\n",
      "\n",
      "           0       0.97      0.95      0.96       492\n",
      "           1       1.00      0.89      0.94       281\n",
      "           2       0.96      0.99      0.97       654\n",
      "           3       0.98      0.91      0.94       343\n",
      "           4       0.96      0.95      0.95       477\n",
      "           5       0.97      0.91      0.94       327\n",
      "           6       0.98      0.92      0.95       365\n",
      "           7       0.98      0.90      0.94       370\n",
      "           8       0.99      0.91      0.95       350\n",
      "           9       0.98      0.93      0.95       428\n",
      "          10       0.97      0.93      0.95       416\n",
      "          11       0.99      0.93      0.96       426\n",
      "          12       0.99      0.93      0.96       392\n",
      "\n",
      "   micro avg       0.98      0.93      0.95      5321\n",
      "   macro avg       0.98      0.93      0.95      5321\n",
      "weighted avg       0.98      0.93      0.95      5321\n",
      " samples avg       0.86      0.84      0.84      5321\n",
      "\n"
     ]
    },
    {
     "name": "stderr",
     "output_type": "stream",
     "text": [
      "C:\\Users\\Janice\\anaconda3\\envs\\dspenv\\lib\\site-packages\\sklearn\\metrics\\_classification.py:1471: UndefinedMetricWarning: Precision and F-score are ill-defined and being set to 0.0 in samples with no predicted labels. Use `zero_division` parameter to control this behavior.\n",
      "  _warn_prf(average, modifier, msg_start, len(result))\n",
      "C:\\Users\\Janice\\anaconda3\\envs\\dspenv\\lib\\site-packages\\sklearn\\metrics\\_classification.py:1471: UndefinedMetricWarning: Recall and F-score are ill-defined and being set to 0.0 in samples with no true labels. Use `zero_division` parameter to control this behavior.\n",
      "  _warn_prf(average, modifier, msg_start, len(result))\n"
     ]
    }
   ],
   "source": [
    "# Make predictions on the test set\n",
    "y_pred = pd.DataFrame({col: classifier.predict(X_test) for col, classifier in svm_model.items()})\n",
    "\n",
    "# Classification Report\n",
    "print(\"Classification Report:\")\n",
    "print(classification_report(y_test, y_pred))"
   ]
  },
  {
   "cell_type": "markdown",
   "id": "398c8752",
   "metadata": {},
   "source": [
    "svm_model_withQues = 0.820378 ---> use diff accuracy measurement (avg)   \n",
    "\n",
    "svm_model:   \n",
    "micro avg       0.85      0.70      0.77      2101  \n",
    "macro avg       0.88      0.68      0.75      2101  \n",
    "weighted avg    0.87      0.70      0.76      2101  \n",
    "samples avg     0.73      0.60      0.62      2101  "
   ]
  },
  {
   "cell_type": "code",
   "execution_count": 29,
   "id": "fec6ad38",
   "metadata": {},
   "outputs": [
    {
     "name": "stdout",
     "output_type": "stream",
     "text": [
      "Accuracy for Learning Objects [Slide presentation]: 0.9547413793103449\n",
      "Accuracy for Learning Objects [Book]: 0.9665948275862069\n",
      "Accuracy for Learning Objects [Lecture Note]: 0.9633620689655172\n",
      "Accuracy for Learning Objects [Educational game]: 0.9601293103448276\n",
      "Accuracy for Learning Objects [Video]: 0.9536637931034483\n",
      "Accuracy for Learning Objects [Audio-recorded lecture]: 0.9612068965517241\n",
      "Accuracy for Learning Objects [Animated instruction]: 0.9612068965517241\n",
      "Accuracy for Learning Objects [Real object model]: 0.9525862068965517\n",
      "Accuracy for Learning Objects [Mind Map]: 0.9622844827586207\n",
      "Accuracy for Learning Objects [Multimedia content]: 0.959051724137931\n",
      "Accuracy for Learning Objects [Interactive Tool]: 0.9558189655172413\n",
      "Accuracy for Learning Objects [Technology-supported learning include computer-based training systems]: 0.9644396551724138\n",
      "Accuracy for Learning Objects [Intelligent computer-aided instruction systems]: 0.9665948275862069\n",
      "\n",
      "Overall Accuracy: 0.9601293103448276\n"
     ]
    }
   ],
   "source": [
    "# Initialize a dictionary to store accuracy scores\n",
    "accuracy_scores = {}\n",
    "\n",
    "# Loop through each column and calculate accuracy score\n",
    "for col in y_test.columns:\n",
    "    accuracy = accuracy_score(y_test[col], y_pred[col])\n",
    "    accuracy_scores[col] = accuracy\n",
    "    print(f\"Accuracy for {col}: {accuracy}\")\n",
    "\n",
    "# Overall accuracy score\n",
    "overall_accuracy = accuracy_score(y_test.values.flatten(), y_pred.values.flatten())\n",
    "print(f\"\\nOverall Accuracy: {overall_accuracy}\")"
   ]
  },
  {
   "cell_type": "markdown",
   "id": "9c997d90",
   "metadata": {},
   "source": [
    "### Make predictions on a new data"
   ]
  },
  {
   "cell_type": "code",
   "execution_count": 30,
   "id": "cc2dd738",
   "metadata": {},
   "outputs": [],
   "source": [
    "svm_model = joblib.load(\"Model/svm_new_model.joblib\")"
   ]
  },
  {
   "cell_type": "code",
   "execution_count": 37,
   "id": "9df9ce3e",
   "metadata": {},
   "outputs": [],
   "source": [
    "data = pd.read_csv(\"Streamlit/merged_withdomVAK.csv\")"
   ]
  },
  {
   "cell_type": "code",
   "execution_count": 38,
   "id": "92589115",
   "metadata": {},
   "outputs": [],
   "source": [
    "# predictions = pd.DataFrame({col: classifier.predict(data) for col, classifier in best_estimators.items()})\n",
    "\n",
    "predictions = pd.DataFrame({col: classifier.predict(data) for col, classifier in svm_model.items()})"
   ]
  },
  {
   "cell_type": "code",
   "execution_count": 39,
   "id": "3e29fac8",
   "metadata": {},
   "outputs": [
    {
     "data": {
      "text/html": [
       "<div>\n",
       "<style scoped>\n",
       "    .dataframe tbody tr th:only-of-type {\n",
       "        vertical-align: middle;\n",
       "    }\n",
       "\n",
       "    .dataframe tbody tr th {\n",
       "        vertical-align: top;\n",
       "    }\n",
       "\n",
       "    .dataframe thead th {\n",
       "        text-align: right;\n",
       "    }\n",
       "</style>\n",
       "<table border=\"1\" class=\"dataframe\">\n",
       "  <thead>\n",
       "    <tr style=\"text-align: right;\">\n",
       "      <th></th>\n",
       "      <th>Learning Objects [Slide presentation]</th>\n",
       "      <th>Learning Objects [Book]</th>\n",
       "      <th>Learning Objects [Lecture Note]</th>\n",
       "      <th>Learning Objects [Educational game]</th>\n",
       "      <th>Learning Objects [Video]</th>\n",
       "      <th>Learning Objects [Audio-recorded lecture]</th>\n",
       "      <th>Learning Objects [Animated instruction]</th>\n",
       "      <th>Learning Objects [Real object model]</th>\n",
       "      <th>Learning Objects [Mind Map]</th>\n",
       "      <th>Learning Objects [Multimedia content]</th>\n",
       "      <th>Learning Objects [Interactive Tool]</th>\n",
       "      <th>Learning Objects [Technology-supported learning include computer-based training systems]</th>\n",
       "      <th>Learning Objects [Intelligent computer-aided instruction systems]</th>\n",
       "    </tr>\n",
       "  </thead>\n",
       "  <tbody>\n",
       "    <tr>\n",
       "      <th>0</th>\n",
       "      <td>1</td>\n",
       "      <td>0</td>\n",
       "      <td>1</td>\n",
       "      <td>0</td>\n",
       "      <td>0</td>\n",
       "      <td>0</td>\n",
       "      <td>0</td>\n",
       "      <td>0</td>\n",
       "      <td>0</td>\n",
       "      <td>0</td>\n",
       "      <td>1</td>\n",
       "      <td>0</td>\n",
       "      <td>0</td>\n",
       "    </tr>\n",
       "  </tbody>\n",
       "</table>\n",
       "</div>"
      ],
      "text/plain": [
       "   Learning Objects [Slide presentation]  Learning Objects [Book]  \\\n",
       "0                                      1                        0   \n",
       "\n",
       "   Learning Objects [Lecture Note]  Learning Objects [Educational game]  \\\n",
       "0                                1                                    0   \n",
       "\n",
       "   Learning Objects [Video]  Learning Objects [Audio-recorded lecture]  \\\n",
       "0                         0                                          0   \n",
       "\n",
       "   Learning Objects [Animated instruction]  \\\n",
       "0                                        0   \n",
       "\n",
       "   Learning Objects [Real object model]  Learning Objects [Mind Map]  \\\n",
       "0                                     0                            0   \n",
       "\n",
       "   Learning Objects [Multimedia content]  Learning Objects [Interactive Tool]  \\\n",
       "0                                      0                                    1   \n",
       "\n",
       "   Learning Objects [Technology-supported learning include computer-based training systems]  \\\n",
       "0                                                  0                                          \n",
       "\n",
       "   Learning Objects [Intelligent computer-aided instruction systems]  \n",
       "0                                                  0                  "
      ]
     },
     "execution_count": 39,
     "metadata": {},
     "output_type": "execute_result"
    }
   ],
   "source": [
    "predictions.head()"
   ]
  }
 ],
 "metadata": {
  "kernelspec": {
   "display_name": "Python 3 (ipykernel)",
   "language": "python",
   "name": "python3"
  },
  "language_info": {
   "codemirror_mode": {
    "name": "ipython",
    "version": 3
   },
   "file_extension": ".py",
   "mimetype": "text/x-python",
   "name": "python",
   "nbconvert_exporter": "python",
   "pygments_lexer": "ipython3",
   "version": "3.9.18"
  }
 },
 "nbformat": 4,
 "nbformat_minor": 5
}
