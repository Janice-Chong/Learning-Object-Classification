{
 "cells": [
  {
   "cell_type": "code",
   "execution_count": 21,
   "id": "ade24d52",
   "metadata": {},
   "outputs": [],
   "source": [
    "import pandas as pd\n",
    "from sklearn.model_selection import train_test_split\n",
    "from sklearn.tree import DecisionTreeClassifier\n",
    "from sklearn.metrics import accuracy_score"
   ]
  },
  {
   "cell_type": "code",
   "execution_count": 22,
   "id": "37d35f5c",
   "metadata": {},
   "outputs": [],
   "source": [
    "# Load the CSV file containing responses\n",
    "df = pd.read_csv('Dataset/encoded_response.csv')"
   ]
  },
  {
   "cell_type": "code",
   "execution_count": 23,
   "id": "c5acb97d",
   "metadata": {},
   "outputs": [],
   "source": [
    "# # Target variable: Learning Objects Preference\n",
    "target = df[[\n",
    "    'Learning Objects [Slide presentation]',\n",
    "    'Learning Objects [Book]',\n",
    "    'Learning Objects [Lecture Note]',\n",
    "    'Learning Objects [Educational game]',\n",
    "    'Learning Objects [Video]',\n",
    "    'Learning Objects [Audio-recorded lecture]',\n",
    "    'Learning Objects [Animated instruction]',\n",
    "    'Learning Objects [Real object model]',\n",
    "    'Learning Objects [Mind Map]',\n",
    "    'Learning Objects [Multimedia content]',\n",
    "    'Learning Objects [Interactive Tool]',\n",
    "    'Learning Objects [Technology-supported learning include computer-based training systems]',\n",
    "    'Learning Objects [Intelligent computer-aided instruction systems]'\n",
    "]]"
   ]
  },
  {
   "cell_type": "code",
   "execution_count": 24,
   "id": "c5ee9b82",
   "metadata": {},
   "outputs": [],
   "source": [
    "# Split the data into training and testing sets\n",
    "X_train, X_test, y_train, y_test = train_test_split(df.drop(target.columns, axis=1), target, test_size=0.25, random_state=42)"
   ]
  },
  {
   "cell_type": "code",
   "execution_count": 25,
   "id": "3e97930e",
   "metadata": {},
   "outputs": [],
   "source": [
    "# Create a RandomForestClassifier for each learning object\n",
    "classifiers = {}\n",
    "for col in target.columns:\n",
    "    classifier = DecisionTreeClassifier(max_depth=2, random_state=42)\n",
    "    classifier.fit(X_train, y_train[col])\n",
    "    classifiers[col] = classifier"
   ]
  },
  {
   "cell_type": "code",
   "execution_count": 26,
   "id": "58884140",
   "metadata": {},
   "outputs": [
    {
     "name": "stdout",
     "output_type": "stream",
     "text": [
      "Model Accuracy for Learning Objects:\n",
      "Learning Objects [Slide presentation]: 0.5405405405405406\n",
      "Learning Objects [Book]: 0.6872586872586872\n",
      "Learning Objects [Lecture Note]: 0.6525096525096525\n",
      "Learning Objects [Educational game]: 0.6023166023166023\n",
      "Learning Objects [Video]: 0.5328185328185329\n",
      "Learning Objects [Audio-recorded lecture]: 0.640926640926641\n",
      "Learning Objects [Animated instruction]: 0.5328185328185329\n",
      "Learning Objects [Real object model]: 0.5752895752895753\n",
      "Learning Objects [Mind Map]: 0.6023166023166023\n",
      "Learning Objects [Multimedia content]: 0.5173745173745173\n",
      "Learning Objects [Interactive Tool]: 0.583011583011583\n",
      "Learning Objects [Technology-supported learning include computer-based training systems]: 0.5366795366795367\n",
      "Learning Objects [Intelligent computer-aided instruction systems]: 0.5868725868725869\n",
      "Mean accuracy:  0.583902583902584\n"
     ]
    }
   ],
   "source": [
    "# Make predictions on the testing set for each learning object\n",
    "y_pred = pd.DataFrame({col: classifier.predict(X_test) for col, classifier in classifiers.items()})\n",
    "\n",
    "sum_acc = 0\n",
    "mean_acc = 0\n",
    "\n",
    "# Evaluate the model for each learning object\n",
    "accuracy = {col: accuracy_score(y_test[col], y_pred[col]) for col in target.columns}\n",
    "print(\"Model Accuracy for Learning Objects:\")\n",
    "for col, acc in accuracy.items():\n",
    "    print(f\"{col}: {acc}\")\n",
    "    sum_acc += acc\n",
    "    \n",
    "mean_acc = sum_acc/13\n",
    "print(\"Mean accuracy: \", mean_acc)"
   ]
  },
  {
   "cell_type": "markdown",
   "id": "538d388c",
   "metadata": {},
   "source": [
    "test_size=0.1 --    \n",
    "test_size=0.2 --   \n",
    "test_size=0.25 --  0.59518   \n",
    "test_size=0.3 --   "
   ]
  },
  {
   "cell_type": "code",
   "execution_count": 27,
   "id": "343da5fd",
   "metadata": {},
   "outputs": [],
   "source": [
    "from sklearn.metrics import confusion_matrix"
   ]
  },
  {
   "cell_type": "code",
   "execution_count": 28,
   "id": "66efd701",
   "metadata": {},
   "outputs": [
    {
     "name": "stdout",
     "output_type": "stream",
     "text": [
      "Model Accuracy for Learning Objects:\n",
      "Learning Objects [Slide presentation]: [[ 29  97]\n",
      " [ 22 111]]\n",
      "Learning Objects [Book]: [[178   0]\n",
      " [ 81   0]]\n",
      "Learning Objects [Lecture Note]: [[  0  90]\n",
      " [  0 169]]\n",
      "Learning Objects [Educational game]: [[156   0]\n",
      " [103   0]]\n",
      "Learning Objects [Video]: [[106  33]\n",
      " [ 88  32]]\n",
      "Learning Objects [Audio-recorded lecture]: [[166   0]\n",
      " [ 93   0]]\n",
      "Learning Objects [Animated instruction]: [[138   0]\n",
      " [121   0]]\n",
      "Learning Objects [Real object model]: [[125  33]\n",
      " [ 77  24]]\n",
      "Learning Objects [Mind Map]: [[156   0]\n",
      " [103   0]]\n",
      "Learning Objects [Multimedia content]: [[101  46]\n",
      " [ 79  33]]\n",
      "Learning Objects [Interactive Tool]: [[135  13]\n",
      " [ 95  16]]\n",
      "Learning Objects [Technology-supported learning include computer-based training systems]: [[115  29]\n",
      " [ 91  24]]\n",
      "Learning Objects [Intelligent computer-aided instruction systems]: [[145   8]\n",
      " [ 99   7]]\n",
      "Mean accuracy:  [[119.23076923  26.84615385]\n",
      " [ 80.92307692  32.        ]]\n"
     ]
    }
   ],
   "source": [
    "sum_acc = 0\n",
    "mean_acc = 0\n",
    "\n",
    "# Evaluate the model for each learning object\n",
    "accuracy = {col: confusion_matrix(y_test[col], y_pred[col]) for col in target.columns}\n",
    "print(\"Model Accuracy for Learning Objects:\")\n",
    "for col, acc in accuracy.items():\n",
    "    print(f\"{col}: {acc}\")\n",
    "    sum_acc += acc\n",
    "    \n",
    "mean_acc = sum_acc/13\n",
    "print(\"Mean accuracy: \", mean_acc)"
   ]
  }
 ],
 "metadata": {
  "kernelspec": {
   "display_name": "Python 3 (ipykernel)",
   "language": "python",
   "name": "python3"
  },
  "language_info": {
   "codemirror_mode": {
    "name": "ipython",
    "version": 3
   },
   "file_extension": ".py",
   "mimetype": "text/x-python",
   "name": "python",
   "nbconvert_exporter": "python",
   "pygments_lexer": "ipython3",
   "version": "3.9.18"
  }
 },
 "nbformat": 4,
 "nbformat_minor": 5
}
