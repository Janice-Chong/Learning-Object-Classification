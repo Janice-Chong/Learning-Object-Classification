{
 "cells": [
  {
   "cell_type": "markdown",
   "id": "6e09d38d",
   "metadata": {},
   "source": [
    "# SVM Model\n",
    "- The initial model"
   ]
  },
  {
   "cell_type": "code",
   "execution_count": 41,
   "id": "4c7c8272",
   "metadata": {},
   "outputs": [],
   "source": [
    "import pandas as pd\n",
    "from sklearn.model_selection import train_test_split\n",
    "from sklearn.svm import SVC\n",
    "from sklearn.metrics import accuracy_score"
   ]
  },
  {
   "cell_type": "code",
   "execution_count": 42,
   "id": "3faaece0",
   "metadata": {},
   "outputs": [],
   "source": [
    "# Load the CSV file containing responses\n",
    "df = pd.read_csv('Dataset/encoded_response.csv')"
   ]
  },
  {
   "cell_type": "code",
   "execution_count": 43,
   "id": "053948c2",
   "metadata": {},
   "outputs": [],
   "source": [
    "# # Target variable: Learning Objects Preference\n",
    "target = df[[\n",
    "    'Learning Objects [Slide presentation]',\n",
    "    'Learning Objects [Book]',\n",
    "    'Learning Objects [Lecture Note]',\n",
    "    'Learning Objects [Educational game]',\n",
    "    'Learning Objects [Video]',\n",
    "    'Learning Objects [Audio-recorded lecture]',\n",
    "    'Learning Objects [Animated instruction]',\n",
    "    'Learning Objects [Real object model]',\n",
    "    'Learning Objects [Mind Map]',\n",
    "    'Learning Objects [Multimedia content]',\n",
    "    'Learning Objects [Interactive Tool]',\n",
    "    'Learning Objects [Technology-supported learning include computer-based training systems]',\n",
    "    'Learning Objects [Intelligent computer-aided instruction systems]'\n",
    "]]"
   ]
  },
  {
   "cell_type": "code",
   "execution_count": 44,
   "id": "48ede84b",
   "metadata": {},
   "outputs": [],
   "source": [
    "# Split the data into training and testing sets\n",
    "X_train, X_test, y_train, y_test = train_test_split(df.drop(target.columns, axis=1), target, test_size=0.25, random_state=42)"
   ]
  },
  {
   "cell_type": "code",
   "execution_count": 45,
   "id": "0befaa75",
   "metadata": {},
   "outputs": [],
   "source": [
    "import joblib\n",
    "from sklearn.model_selection import GridSearchCV"
   ]
  },
  {
   "cell_type": "code",
   "execution_count": 56,
   "id": "f2249b8f",
   "metadata": {},
   "outputs": [
    {
     "name": "stdout",
     "output_type": "stream",
     "text": [
      "Model Accuracy for Learning Objects [Slide presentation]: 0.5714285714285714\n",
      "Model Accuracy for Learning Objects [Book]: 0.7258687258687259\n",
      "Model Accuracy for Learning Objects [Lecture Note]: 0.6872586872586872\n",
      "Model Accuracy for Learning Objects [Educational game]: 0.6602316602316602\n",
      "Model Accuracy for Learning Objects [Video]: 0.6254826254826255\n",
      "Model Accuracy for Learning Objects [Audio-recorded lecture]: 0.6988416988416989\n",
      "Model Accuracy for Learning Objects [Animated instruction]: 0.5984555984555985\n",
      "Model Accuracy for Learning Objects [Real object model]: 0.6563706563706564\n",
      "Model Accuracy for Learning Objects [Mind Map]: 0.6602316602316602\n",
      "Model Accuracy for Learning Objects [Multimedia content]: 0.6138996138996139\n",
      "Model Accuracy for Learning Objects [Interactive Tool]: 0.6293436293436293\n",
      "Model Accuracy for Learning Objects [Technology-supported learning include computer-based training systems]: 0.5984555984555985\n",
      "Model Accuracy for Learning Objects [Intelligent computer-aided instruction systems]: 0.6486486486486487\n"
     ]
    },
    {
     "data": {
      "text/plain": [
       "['Model/svm_model4.joblib']"
      ]
     },
     "execution_count": 56,
     "metadata": {},
     "output_type": "execute_result"
    }
   ],
   "source": [
    "# # Create a RandomForestClassifier for each learning object\n",
    "# classifiers = {}\n",
    "# for col in target.columns:\n",
    "#     classifier = SVC(kernel='rbf', random_state=42)\n",
    "#     classifier.fit(X_train, y_train[col])\n",
    "#     classifiers[col] = classifier\n",
    "    \n",
    "# # Save the trained SVM model to a file\n",
    "# joblib.dump(classifier, \"svm_model.joblib\")\n",
    "\n",
    "#-------\n",
    "# Create a dictionary to hold the best estimators after grid search\n",
    "best_estimators = {}\n",
    "\n",
    "# Iterate through each learning object\n",
    "for col in target.columns:\n",
    "    # Define the parameter grid\n",
    "    param_grid = {\n",
    "        'C': [1],  # Expanded range of C values\n",
    "        'gamma': [0.1],  # More options for gamma\n",
    "        'kernel': ['rbf']  # Diverse kernel options\n",
    "    }\n",
    "    \n",
    "    # Instantiate GridSearchCV\n",
    "    grid_search = GridSearchCV(SVC(random_state=42), param_grid, cv=5, scoring='accuracy')\n",
    "    \n",
    "    # Fit the grid search to your data for the current learning object\n",
    "    grid_search.fit(X_train, y_train[col])\n",
    "    \n",
    "    # Get the best parameters and best estimator for the current learning object\n",
    "    best_params = grid_search.best_params_\n",
    "    best_estimator = grid_search.best_estimator_\n",
    "    \n",
    "    # Save the best estimator (SVM model) to a file\n",
    "#     joblib.dump(best_estimator, f\"svm_model_{col}.joblib\")\n",
    "    \n",
    "    # Store the best estimator in the dictionary for later use if needed\n",
    "    best_estimators[col] = best_estimator\n",
    "    \n",
    "    # Evaluate the model on the validation set\n",
    "    y_pred = best_estimator.predict(X_test)\n",
    "    accuracy = accuracy_score(y_test[col], y_pred)\n",
    "    print(f\"Model Accuracy for {col}: {accuracy}\")\n",
    "    \n",
    "# Save the trained SVM model to a file\n",
    "joblib.dump(best_estimators, \"Model/svm_model4.joblib\")"
   ]
  },
  {
   "cell_type": "code",
   "execution_count": 53,
   "id": "7e0ef30e",
   "metadata": {},
   "outputs": [],
   "source": [
    "# print('best_params:', best_params)"
   ]
  },
  {
   "cell_type": "markdown",
   "id": "8eb0abbf",
   "metadata": {},
   "source": [
    "model 1 = best_params: {'C': 1, 'gamma': 0.1, 'kernel': 'rbf'}  \n",
    "model 2 = best_params: {'C': 1, 'gamma': 0.1, 'kernel': 'rbf'}  \n",
    "model 3 = best_params: {'C': 1, 'gamma': 0.1, 'kernel': 'rbf'}"
   ]
  },
  {
   "cell_type": "code",
   "execution_count": 57,
   "id": "1d80e794",
   "metadata": {},
   "outputs": [
    {
     "name": "stdout",
     "output_type": "stream",
     "text": [
      "Model Accuracy for Learning Objects:\n",
      "Learning Objects [Slide presentation]: 0.5714285714285714\n",
      "Learning Objects [Book]: 0.7258687258687259\n",
      "Learning Objects [Lecture Note]: 0.6872586872586872\n",
      "Learning Objects [Educational game]: 0.6602316602316602\n",
      "Learning Objects [Video]: 0.6254826254826255\n",
      "Learning Objects [Audio-recorded lecture]: 0.6988416988416989\n",
      "Learning Objects [Animated instruction]: 0.5984555984555985\n",
      "Learning Objects [Real object model]: 0.6563706563706564\n",
      "Learning Objects [Mind Map]: 0.6602316602316602\n",
      "Learning Objects [Multimedia content]: 0.6138996138996139\n",
      "Learning Objects [Interactive Tool]: 0.6293436293436293\n",
      "Learning Objects [Technology-supported learning include computer-based training systems]: 0.5984555984555985\n",
      "Learning Objects [Intelligent computer-aided instruction systems]: 0.6486486486486487\n",
      "Mean accuracy:  0.6441936441936442\n"
     ]
    }
   ],
   "source": [
    "# Make predictions on the testing set for each learning object\n",
    "y_pred = pd.DataFrame({col: classifier.predict(X_test) for col, classifier in best_estimators.items()})\n",
    "\n",
    "sum_acc = 0\n",
    "mean_acc = 0\n",
    "\n",
    "# Evaluate the model for each learning object\n",
    "accuracy = {col: accuracy_score(y_test[col], y_pred[col]) for col in target.columns}\n",
    "print(\"Model Accuracy for Learning Objects:\")\n",
    "for col, acc in accuracy.items():\n",
    "    print(f\"{col}: {acc}\")\n",
    "    sum_acc += acc\n",
    "    \n",
    "mean_acc = sum_acc/13\n",
    "print(\"Mean accuracy: \", mean_acc)"
   ]
  },
  {
   "cell_type": "markdown",
   "id": "398c8752",
   "metadata": {},
   "source": [
    "svm_model =  0.64211   \n",
    "svm_model2 = 0.6433  \n",
    "svm_model3 = 0.64419"
   ]
  },
  {
   "cell_type": "markdown",
   "id": "9c997d90",
   "metadata": {},
   "source": [
    "### Make predictions on a new data"
   ]
  },
  {
   "cell_type": "code",
   "execution_count": 73,
   "id": "cc2dd738",
   "metadata": {},
   "outputs": [],
   "source": [
    "svm_model = joblib.load(\"Model/svm_model2.joblib\")"
   ]
  },
  {
   "cell_type": "code",
   "execution_count": 74,
   "id": "9df9ce3e",
   "metadata": {},
   "outputs": [],
   "source": [
    "data = pd.read_csv(\"Dataset/data.csv\")"
   ]
  },
  {
   "cell_type": "code",
   "execution_count": 75,
   "id": "92589115",
   "metadata": {},
   "outputs": [],
   "source": [
    "# predictions = pd.DataFrame({col: classifier.predict(data) for col, classifier in best_estimators.items()})\n",
    "\n",
    "predictions = pd.DataFrame({col: classifier.predict(data) for col, classifier in svm_model.items()})"
   ]
  },
  {
   "cell_type": "code",
   "execution_count": 76,
   "id": "3e29fac8",
   "metadata": {},
   "outputs": [
    {
     "data": {
      "text/html": [
       "<div>\n",
       "<style scoped>\n",
       "    .dataframe tbody tr th:only-of-type {\n",
       "        vertical-align: middle;\n",
       "    }\n",
       "\n",
       "    .dataframe tbody tr th {\n",
       "        vertical-align: top;\n",
       "    }\n",
       "\n",
       "    .dataframe thead th {\n",
       "        text-align: right;\n",
       "    }\n",
       "</style>\n",
       "<table border=\"1\" class=\"dataframe\">\n",
       "  <thead>\n",
       "    <tr style=\"text-align: right;\">\n",
       "      <th></th>\n",
       "      <th>Learning Objects [Slide presentation]</th>\n",
       "      <th>Learning Objects [Book]</th>\n",
       "      <th>Learning Objects [Lecture Note]</th>\n",
       "      <th>Learning Objects [Educational game]</th>\n",
       "      <th>Learning Objects [Video]</th>\n",
       "      <th>Learning Objects [Audio-recorded lecture]</th>\n",
       "      <th>Learning Objects [Animated instruction]</th>\n",
       "      <th>Learning Objects [Real object model]</th>\n",
       "      <th>Learning Objects [Mind Map]</th>\n",
       "      <th>Learning Objects [Multimedia content]</th>\n",
       "      <th>Learning Objects [Interactive Tool]</th>\n",
       "      <th>Learning Objects [Technology-supported learning include computer-based training systems]</th>\n",
       "      <th>Learning Objects [Intelligent computer-aided instruction systems]</th>\n",
       "    </tr>\n",
       "  </thead>\n",
       "  <tbody>\n",
       "    <tr>\n",
       "      <th>0</th>\n",
       "      <td>0</td>\n",
       "      <td>0</td>\n",
       "      <td>0</td>\n",
       "      <td>0</td>\n",
       "      <td>0</td>\n",
       "      <td>0</td>\n",
       "      <td>0</td>\n",
       "      <td>0</td>\n",
       "      <td>0</td>\n",
       "      <td>0</td>\n",
       "      <td>0</td>\n",
       "      <td>0</td>\n",
       "      <td>0</td>\n",
       "    </tr>\n",
       "    <tr>\n",
       "      <th>1</th>\n",
       "      <td>1</td>\n",
       "      <td>0</td>\n",
       "      <td>1</td>\n",
       "      <td>0</td>\n",
       "      <td>0</td>\n",
       "      <td>1</td>\n",
       "      <td>0</td>\n",
       "      <td>0</td>\n",
       "      <td>0</td>\n",
       "      <td>0</td>\n",
       "      <td>0</td>\n",
       "      <td>0</td>\n",
       "      <td>0</td>\n",
       "    </tr>\n",
       "    <tr>\n",
       "      <th>2</th>\n",
       "      <td>0</td>\n",
       "      <td>0</td>\n",
       "      <td>1</td>\n",
       "      <td>0</td>\n",
       "      <td>1</td>\n",
       "      <td>1</td>\n",
       "      <td>1</td>\n",
       "      <td>0</td>\n",
       "      <td>0</td>\n",
       "      <td>1</td>\n",
       "      <td>1</td>\n",
       "      <td>0</td>\n",
       "      <td>0</td>\n",
       "    </tr>\n",
       "    <tr>\n",
       "      <th>3</th>\n",
       "      <td>1</td>\n",
       "      <td>0</td>\n",
       "      <td>1</td>\n",
       "      <td>0</td>\n",
       "      <td>0</td>\n",
       "      <td>0</td>\n",
       "      <td>0</td>\n",
       "      <td>0</td>\n",
       "      <td>1</td>\n",
       "      <td>0</td>\n",
       "      <td>1</td>\n",
       "      <td>1</td>\n",
       "      <td>0</td>\n",
       "    </tr>\n",
       "    <tr>\n",
       "      <th>4</th>\n",
       "      <td>0</td>\n",
       "      <td>0</td>\n",
       "      <td>1</td>\n",
       "      <td>0</td>\n",
       "      <td>1</td>\n",
       "      <td>0</td>\n",
       "      <td>0</td>\n",
       "      <td>0</td>\n",
       "      <td>0</td>\n",
       "      <td>0</td>\n",
       "      <td>0</td>\n",
       "      <td>0</td>\n",
       "      <td>0</td>\n",
       "    </tr>\n",
       "  </tbody>\n",
       "</table>\n",
       "</div>"
      ],
      "text/plain": [
       "   Learning Objects [Slide presentation]  Learning Objects [Book]  \\\n",
       "0                                      0                        0   \n",
       "1                                      1                        0   \n",
       "2                                      0                        0   \n",
       "3                                      1                        0   \n",
       "4                                      0                        0   \n",
       "\n",
       "   Learning Objects [Lecture Note]  Learning Objects [Educational game]  \\\n",
       "0                                0                                    0   \n",
       "1                                1                                    0   \n",
       "2                                1                                    0   \n",
       "3                                1                                    0   \n",
       "4                                1                                    0   \n",
       "\n",
       "   Learning Objects [Video]  Learning Objects [Audio-recorded lecture]  \\\n",
       "0                         0                                          0   \n",
       "1                         0                                          1   \n",
       "2                         1                                          1   \n",
       "3                         0                                          0   \n",
       "4                         1                                          0   \n",
       "\n",
       "   Learning Objects [Animated instruction]  \\\n",
       "0                                        0   \n",
       "1                                        0   \n",
       "2                                        1   \n",
       "3                                        0   \n",
       "4                                        0   \n",
       "\n",
       "   Learning Objects [Real object model]  Learning Objects [Mind Map]  \\\n",
       "0                                     0                            0   \n",
       "1                                     0                            0   \n",
       "2                                     0                            0   \n",
       "3                                     0                            1   \n",
       "4                                     0                            0   \n",
       "\n",
       "   Learning Objects [Multimedia content]  Learning Objects [Interactive Tool]  \\\n",
       "0                                      0                                    0   \n",
       "1                                      0                                    0   \n",
       "2                                      1                                    1   \n",
       "3                                      0                                    1   \n",
       "4                                      0                                    0   \n",
       "\n",
       "   Learning Objects [Technology-supported learning include computer-based training systems]  \\\n",
       "0                                                  0                                          \n",
       "1                                                  0                                          \n",
       "2                                                  0                                          \n",
       "3                                                  1                                          \n",
       "4                                                  0                                          \n",
       "\n",
       "   Learning Objects [Intelligent computer-aided instruction systems]  \n",
       "0                                                  0                  \n",
       "1                                                  0                  \n",
       "2                                                  0                  \n",
       "3                                                  0                  \n",
       "4                                                  0                  "
      ]
     },
     "execution_count": 76,
     "metadata": {},
     "output_type": "execute_result"
    }
   ],
   "source": [
    "predictions.head()"
   ]
  }
 ],
 "metadata": {
  "kernelspec": {
   "display_name": "Python 3 (ipykernel)",
   "language": "python",
   "name": "python3"
  },
  "language_info": {
   "codemirror_mode": {
    "name": "ipython",
    "version": 3
   },
   "file_extension": ".py",
   "mimetype": "text/x-python",
   "name": "python",
   "nbconvert_exporter": "python",
   "pygments_lexer": "ipython3",
   "version": "3.9.18"
  }
 },
 "nbformat": 4,
 "nbformat_minor": 5
}
