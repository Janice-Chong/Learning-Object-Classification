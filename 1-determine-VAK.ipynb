{
 "cells": [
  {
   "cell_type": "markdown",
   "id": "6201beff",
   "metadata": {},
   "source": [
    "# To Determine The Dominant VAK Learning Style For Each Respondent"
   ]
  },
  {
   "cell_type": "code",
   "execution_count": 1,
   "id": "021d8092",
   "metadata": {},
   "outputs": [],
   "source": [
    "import pandas as pd"
   ]
  },
  {
   "cell_type": "markdown",
   "id": "b4704c8c",
   "metadata": {},
   "source": [
    "## Load Data\n",
    "\n"
   ]
  },
  {
   "cell_type": "code",
   "execution_count": 2,
   "id": "03bc9abc",
   "metadata": {},
   "outputs": [],
   "source": [
    "# Load the CSV file containing responses\n",
    "df = pd.read_csv('Dataset/LOSurvey.csv')\n",
    "\n",
    "# Extract columns 71 to 100 to access the VAK questions columns only\n",
    "responses_df = df.iloc[:, 70:100]"
   ]
  },
  {
   "cell_type": "markdown",
   "id": "19f40f3b",
   "metadata": {},
   "source": [
    "## Define answers associated with each VAK"
   ]
  },
  {
   "cell_type": "code",
   "execution_count": 3,
   "id": "058d2ead",
   "metadata": {},
   "outputs": [],
   "source": [
    "# Define answers options\n",
    "visual_keywords = [\"Read the instructions\", \n",
    "                   \"Look at a map\", \n",
    "                   \"Follow a recipe\", \n",
    "                   \"Write Instructions\",\n",
    "                   \"I see what you mean\",\n",
    "                   \"Show me\",\n",
    "                   \"Watch how I do it\",\n",
    "                   \"Write a letter\",\n",
    "                   \"Museums or galleries\",\n",
    "                   \"Look and decide\",\n",
    "                   \"Read the brochures\",\n",
    "                   \"Read the reviews\",\n",
    "                   \"I watch what the teacher is doing\",\n",
    "                   \"I imagine what the food will look like\",\n",
    "                   \"I sing along to the lyrics (in my head or out loud)\",\n",
    "                   \"Focus on the words or pictures in front of me\",\n",
    "                   \"Writing notes or keeping printed details\",\n",
    "                   \"Looking at something\",\n",
    "                   \"Visualize the worst case scenarios\",\n",
    "                   \"How they look\",\n",
    "                   \"Write lots of revision notes\",\n",
    "                   \"Show them what I mean\",\n",
    "                   \"Photography or watching films or people watching\",\n",
    "                   \"Watching television\",\n",
    "                   \"I arrange a face to face meeting\",\n",
    "                   \"Look and dress\",\n",
    "                   \"I keep replaying in my mind what it is that has upset me\",\n",
    "                   \"Faces\",\n",
    "                   \"They avoid looking at you\",\n",
    "                   \"I say \\\"it's great to see you!\\\"\",\n",
    "                  ]\n",
    "\n",
    "auditory_keywords = [\"Listen to or ask for an explaination\", \n",
    "                     \"Ask for spoken directions\", \n",
    "                     \"Call a friend for explaination\",\n",
    "                     \"Explain verbally\",\n",
    "                     \"I hear what you are saying\",\n",
    "                     \"Tell me\",\n",
    "                     \"Listen to me explain\",\n",
    "                     \"Phone\",\n",
    "                     \"Music or conversation\",\n",
    "                     \"Discuss with shop staff\",\n",
    "                     \"Listen to recommendations\",\n",
    "                     \"Discuss with friends\",\n",
    "                     \"I talk through with the teacher exactly what I am supposed to do\",\n",
    "                     \"I talk through the options in my head\",\n",
    "                     \"I listen to the lyrics and the beats\",\n",
    "                     \"Discuss the problem and possible solutions in my head\",\n",
    "                     \"Saying them aloud or repeating words and key points in my head\",\n",
    "                     \"Being spoken to\",\n",
    "                     \"Talk over in my head what worries me most\",\n",
    "                     \"What they say to me\",\n",
    "                     \"I talk over my notes, to myself or to other people\",\n",
    "                     \"Explain to them in different ways until they understand\",\n",
    "                     \"Listening to music or listening to the radio or talking to friends\",\n",
    "                     \"Talking to friends\",\n",
    "                     \"I talk to them on the telephone\",\n",
    "                     \"Sound and speak\",\n",
    "                     \"I shout lots and tell people how I feel\",\n",
    "                     \"Names\",\n",
    "                     \"Their voice changes\",\n",
    "                     \"I say \\\"it's great to hear your voice!\\\"\"\n",
    "                    ]\n",
    "\n",
    "kinesthetic_keywords = [\"Have a go and learn by \\\"trial and error\\\"\", \n",
    "                        \"Follow my nose or maybe use a compass\", \n",
    "                        \"Follow my instinct, tasting as I cook\",\n",
    "                        \"Demonstrate and let them have a go\",\n",
    "                        \"I know how you feel\",\n",
    "                        \"Let me try\",\n",
    "                        \"You have a go\",\n",
    "                        \"Go back to the store, or send the faulty item to the head office\",\n",
    "                        \"Physical activities or making things\",\n",
    "                        \"Try on, handle or test\",\n",
    "                        \"Imagine the experience\",\n",
    "                        \"Test-drive what you fancy\",\n",
    "                        \"I like to give it a try and work it out as I go along by doing it\",\n",
    "                        \"I imagine what  the food will taste like\", #double spacing here\n",
    "                        \"I move in time with the music\",\n",
    "                        \"Move around a lot, fiddle with pens and pencils and touch unrelated things\",\n",
    "                        \"Doing and practicing the activity or imagining it being done\",\n",
    "                        \"Doing something\",\n",
    "                        \"Can't sit still, fiddle and move around constantly\",\n",
    "                        \"How they make me\",\n",
    "                        \"Imagine making the movement or creating the formula\",\n",
    "                        \"Encourage them to try and talk them through the idea as they try\",\n",
    "                        \"Physical/sports activities or fine wines, fine foods or dancing\",\n",
    "                        \"Doing physical activity or making things\",\n",
    "                        \"I try to get together to share an activity\",\n",
    "                        \"Stand and move\",\n",
    "                        \"I stomp about, slam doors and throw things\",\n",
    "                        \"Things I have done\",\n",
    "                        \"The vibes I get from them\",\n",
    "                        \"I give them a hug or a handshake\"\n",
    "                       ]"
   ]
  },
  {
   "cell_type": "markdown",
   "id": "ca74966c",
   "metadata": {},
   "source": [
    "## Determine the dominant VAK\n"
   ]
  },
  {
   "cell_type": "code",
   "execution_count": 4,
   "id": "6b5d98e2",
   "metadata": {},
   "outputs": [],
   "source": [
    "# Initialize a list to store the dominant VAK preferences for each respondent\n",
    "dominant_preferences = []\n",
    "\n",
    "# Iterate the rows (each row represents a respondent)\n",
    "for index, row in responses_df.iterrows():\n",
    "    visual_count = 0\n",
    "    auditory_count = 0\n",
    "    kinesthetic_count = 0\n",
    "\n",
    "    # Iterate the columns (each column is a question)\n",
    "    for column in responses_df.columns:\n",
    "        response = row[column].lower()\n",
    "        \n",
    "        # Compare keywords with the response\n",
    "        # Count the number of visual/auditory/kinesthetic answers chosen\n",
    "        for keyword in visual_keywords:\n",
    "            if keyword.lower() in response:\n",
    "                visual_count += 1\n",
    "\n",
    "        for keyword in auditory_keywords:\n",
    "            if keyword.lower() in response:\n",
    "                auditory_count += 1\n",
    "\n",
    "        for keyword in kinesthetic_keywords:\n",
    "            if keyword.lower() in response:\n",
    "                kinesthetic_count += 1\n",
    "\n",
    "    # Determine the dominant VAK preference for this respondent using the max count\n",
    "    preferences = {\n",
    "        \"Visual\": visual_count,\n",
    "        \"Auditory\": auditory_count,\n",
    "        \"Kinesthetic\": kinesthetic_count\n",
    "    }\n",
    "\n",
    "    dominant_preference = max(preferences, key=preferences.get)\n",
    "    dominant_preferences.append(dominant_preference)\n",
    "\n",
    "    \n",
    "# Add the list of dominant preferences as a new column in the DataFrame (df)\n",
    "df['Dominant_VAK'] = dominant_preferences"
   ]
  },
  {
   "cell_type": "markdown",
   "id": "b9d32214",
   "metadata": {},
   "source": [
    "## Save the results as a new CSV file"
   ]
  },
  {
   "cell_type": "code",
   "execution_count": 6,
   "id": "b5b3a3f7",
   "metadata": {},
   "outputs": [],
   "source": [
    "# Save into a new csv\n",
    "df.to_csv('Dataset/responses_withVAKdom.csv', index=False)"
   ]
  }
 ],
 "metadata": {
  "kernelspec": {
   "display_name": "Python 3 (ipykernel)",
   "language": "python",
   "name": "python3"
  },
  "language_info": {
   "codemirror_mode": {
    "name": "ipython",
    "version": 3
   },
   "file_extension": ".py",
   "mimetype": "text/x-python",
   "name": "python",
   "nbconvert_exporter": "python",
   "pygments_lexer": "ipython3",
   "version": "3.9.18"
  }
 },
 "nbformat": 4,
 "nbformat_minor": 5
}
