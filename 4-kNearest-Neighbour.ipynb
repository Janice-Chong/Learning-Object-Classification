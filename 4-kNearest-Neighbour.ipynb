{
 "cells": [
  {
   "cell_type": "markdown",
   "id": "8bd758c6",
   "metadata": {},
   "source": [
    "# K-Nearest Neighbours\n",
    "- Trained with VAK qeustions"
   ]
  },
  {
   "cell_type": "code",
   "execution_count": 1,
   "id": "4c7c8272",
   "metadata": {},
   "outputs": [],
   "source": [
    "import pandas as pd\n",
    "from sklearn.model_selection import train_test_split\n",
    "from sklearn.metrics import accuracy_score, classification_report\n",
    "from sklearn.neighbors import KNeighborsClassifier\n",
    "\n",
    "from sklearn.model_selection import GridSearchCV\n",
    "import joblib"
   ]
  },
  {
   "cell_type": "code",
   "execution_count": 2,
   "id": "3faaece0",
   "metadata": {},
   "outputs": [],
   "source": [
    "# Load the CSV file containing responses\n",
    "df = pd.read_csv('Dataset/encoded_response_withQues.csv')"
   ]
  },
  {
   "cell_type": "markdown",
   "id": "ddd81587",
   "metadata": {},
   "source": [
    "### Define target variables"
   ]
  },
  {
   "cell_type": "code",
   "execution_count": 3,
   "id": "053948c2",
   "metadata": {},
   "outputs": [],
   "source": [
    "# # Target variable: Learning Objects Preference\n",
    "target = df[[\n",
    "    'Learning Objects [Slide presentation]',\n",
    "    'Learning Objects [Book]',\n",
    "    'Learning Objects [Lecture Note]',\n",
    "    'Learning Objects [Educational game]',\n",
    "    'Learning Objects [Video]',\n",
    "    'Learning Objects [Audio-recorded lecture]',\n",
    "    'Learning Objects [Animated instruction]',\n",
    "    'Learning Objects [Real object model]',\n",
    "    'Learning Objects [Mind Map]',\n",
    "    'Learning Objects [Multimedia content]',\n",
    "    'Learning Objects [Interactive Tool]',\n",
    "    'Learning Objects [Technology-supported learning include computer-based training systems]',\n",
    "    'Learning Objects [Intelligent computer-aided instruction systems]'\n",
    "]]"
   ]
  },
  {
   "cell_type": "markdown",
   "id": "f1e9c4c5",
   "metadata": {},
   "source": [
    "### Split test and train data"
   ]
  },
  {
   "cell_type": "code",
   "execution_count": 4,
   "id": "48ede84b",
   "metadata": {},
   "outputs": [],
   "source": [
    "# Split the data into training and testing sets\n",
    "X_train, X_test, y_train, y_test = train_test_split(df.drop(target.columns, axis=1), target, test_size=0.25, random_state=42)"
   ]
  },
  {
   "cell_type": "markdown",
   "id": "27da2671",
   "metadata": {},
   "source": [
    "### Train model\n",
    "- use GridSearchCV to find the best parameters which will give the highest accuracy\n",
    "- save the model using joblib"
   ]
  },
  {
   "cell_type": "code",
   "execution_count": 5,
   "id": "f2249b8f",
   "metadata": {},
   "outputs": [
    {
     "data": {
      "text/plain": [
       "['Model/knn_model.joblib']"
      ]
     },
     "execution_count": 5,
     "metadata": {},
     "output_type": "execute_result"
    }
   ],
   "source": [
    "best_estimators = {}\n",
    "\n",
    "for col in target.columns:\n",
    "    param_grid = {\n",
    "        'n_neighbors': [3, 5, 7, 9],  \n",
    "        'weights': ['uniform', 'distance'],\n",
    "        'metric': ['euclidean', 'manhattan']\n",
    "    }\n",
    "\n",
    "    grid_search = GridSearchCV(\n",
    "        KNeighborsClassifier(),\n",
    "        param_grid,\n",
    "        cv=5,\n",
    "        scoring='accuracy',\n",
    "        n_jobs=-1  # Use multiple cores for faster processing\n",
    "    )\n",
    "\n",
    "    grid_search.fit(X_train, y_train[col])\n",
    "\n",
    "    best_params = grid_search.best_params_\n",
    "    best_estimator = grid_search.best_estimator_\n",
    "\n",
    "    best_estimators[col] = best_estimator\n",
    "\n",
    "joblib.dump(best_estimators, \"Model/knn_model.joblib\")"
   ]
  },
  {
   "cell_type": "code",
   "execution_count": 6,
   "id": "4b19fcaa",
   "metadata": {},
   "outputs": [
    {
     "name": "stdout",
     "output_type": "stream",
     "text": [
      "best_params: {'metric': 'manhattan', 'n_neighbors': 9, 'weights': 'distance'}\n"
     ]
    }
   ],
   "source": [
    "print('best_params:', best_params)"
   ]
  },
  {
   "cell_type": "markdown",
   "id": "f59c6a7a",
   "metadata": {},
   "source": [
    "### Check model accuracy\n",
    "- use classification_report"
   ]
  },
  {
   "cell_type": "code",
   "execution_count": 7,
   "id": "7d7f5c01",
   "metadata": {},
   "outputs": [],
   "source": [
    "knn_model = joblib.load(\"Model/knn_model.joblib\")"
   ]
  },
  {
   "cell_type": "code",
   "execution_count": 8,
   "id": "1d80e794",
   "metadata": {},
   "outputs": [
    {
     "name": "stdout",
     "output_type": "stream",
     "text": [
      "Classification Report:\n",
      "              precision    recall  f1-score   support\n",
      "\n",
      "           0       0.80      0.78      0.79       200\n",
      "           1       0.74      0.68      0.71       117\n",
      "           2       0.78      0.95      0.86       254\n",
      "           3       0.81      0.69      0.74       137\n",
      "           4       0.74      0.80      0.77       194\n",
      "           5       0.77      0.72      0.74       138\n",
      "           6       0.79      0.66      0.72       143\n",
      "           7       0.75      0.65      0.70       136\n",
      "           8       0.80      0.67      0.73       140\n",
      "           9       0.72      0.78      0.75       156\n",
      "          10       0.73      0.77      0.75       170\n",
      "          11       0.74      0.76      0.75       165\n",
      "          12       0.71      0.67      0.69       151\n",
      "\n",
      "   micro avg       0.76      0.75      0.76      2101\n",
      "   macro avg       0.76      0.74      0.75      2101\n",
      "weighted avg       0.76      0.75      0.75      2101\n",
      " samples avg       0.68      0.64      0.63      2101\n",
      "\n"
     ]
    },
    {
     "name": "stderr",
     "output_type": "stream",
     "text": [
      "C:\\Users\\Janice\\anaconda3\\envs\\dspenv\\lib\\site-packages\\sklearn\\metrics\\_classification.py:1471: UndefinedMetricWarning: Precision and F-score are ill-defined and being set to 0.0 in samples with no predicted labels. Use `zero_division` parameter to control this behavior.\n",
      "  _warn_prf(average, modifier, msg_start, len(result))\n",
      "C:\\Users\\Janice\\anaconda3\\envs\\dspenv\\lib\\site-packages\\sklearn\\metrics\\_classification.py:1471: UndefinedMetricWarning: Recall and F-score are ill-defined and being set to 0.0 in samples with no true labels. Use `zero_division` parameter to control this behavior.\n",
      "  _warn_prf(average, modifier, msg_start, len(result))\n"
     ]
    }
   ],
   "source": [
    "# Make predictions on the test set\n",
    "y_pred = pd.DataFrame({col: classifier.predict(X_test) for col, classifier in knn_model.items()})\n",
    "\n",
    "# Classification Report\n",
    "print(\"Classification Report:\")\n",
    "print(classification_report(y_test, y_pred))"
   ]
  },
  {
   "cell_type": "markdown",
   "id": "398c8752",
   "metadata": {},
   "source": [
    "knn_model:  \n",
    "micro avg       0.76      0.75      0.76      2101  \n",
    "macro avg       0.76      0.74      0.75      2101  \n",
    "weighted avg    0.76      0.75      0.75      2101  \n",
    "samples avg     0.68      0.64      0.63      2101  "
   ]
  },
  {
   "cell_type": "markdown",
   "id": "8314d5ce",
   "metadata": {},
   "source": [
    "### Make predictions on a new data"
   ]
  },
  {
   "cell_type": "code",
   "execution_count": 13,
   "id": "42ec99cb",
   "metadata": {},
   "outputs": [],
   "source": [
    "knn_model = joblib.load(\"Model/knn_model.joblib\")"
   ]
  },
  {
   "cell_type": "code",
   "execution_count": 14,
   "id": "05b7c8e0",
   "metadata": {},
   "outputs": [],
   "source": [
    "data = pd.read_csv(\"Streamlit/merged_withdomVAK.csv\")"
   ]
  },
  {
   "cell_type": "code",
   "execution_count": 15,
   "id": "a6aa964a",
   "metadata": {},
   "outputs": [
    {
     "data": {
      "text/html": [
       "<div>\n",
       "<style scoped>\n",
       "    .dataframe tbody tr th:only-of-type {\n",
       "        vertical-align: middle;\n",
       "    }\n",
       "\n",
       "    .dataframe tbody tr th {\n",
       "        vertical-align: top;\n",
       "    }\n",
       "\n",
       "    .dataframe thead th {\n",
       "        text-align: right;\n",
       "    }\n",
       "</style>\n",
       "<table border=\"1\" class=\"dataframe\">\n",
       "  <thead>\n",
       "    <tr style=\"text-align: right;\">\n",
       "      <th></th>\n",
       "      <th>Learning Objects [Slide presentation]</th>\n",
       "      <th>Learning Objects [Book]</th>\n",
       "      <th>Learning Objects [Lecture Note]</th>\n",
       "      <th>Learning Objects [Educational game]</th>\n",
       "      <th>Learning Objects [Video]</th>\n",
       "      <th>Learning Objects [Audio-recorded lecture]</th>\n",
       "      <th>Learning Objects [Animated instruction]</th>\n",
       "      <th>Learning Objects [Real object model]</th>\n",
       "      <th>Learning Objects [Mind Map]</th>\n",
       "      <th>Learning Objects [Multimedia content]</th>\n",
       "      <th>Learning Objects [Interactive Tool]</th>\n",
       "      <th>Learning Objects [Technology-supported learning include computer-based training systems]</th>\n",
       "      <th>Learning Objects [Intelligent computer-aided instruction systems]</th>\n",
       "    </tr>\n",
       "  </thead>\n",
       "  <tbody>\n",
       "    <tr>\n",
       "      <th>0</th>\n",
       "      <td>0</td>\n",
       "      <td>0</td>\n",
       "      <td>0</td>\n",
       "      <td>0</td>\n",
       "      <td>0</td>\n",
       "      <td>0</td>\n",
       "      <td>1</td>\n",
       "      <td>1</td>\n",
       "      <td>1</td>\n",
       "      <td>0</td>\n",
       "      <td>1</td>\n",
       "      <td>1</td>\n",
       "      <td>1</td>\n",
       "    </tr>\n",
       "    <tr>\n",
       "      <th>1</th>\n",
       "      <td>0</td>\n",
       "      <td>0</td>\n",
       "      <td>0</td>\n",
       "      <td>0</td>\n",
       "      <td>0</td>\n",
       "      <td>0</td>\n",
       "      <td>1</td>\n",
       "      <td>1</td>\n",
       "      <td>1</td>\n",
       "      <td>0</td>\n",
       "      <td>1</td>\n",
       "      <td>1</td>\n",
       "      <td>1</td>\n",
       "    </tr>\n",
       "  </tbody>\n",
       "</table>\n",
       "</div>"
      ],
      "text/plain": [
       "   Learning Objects [Slide presentation]  Learning Objects [Book]  \\\n",
       "0                                      0                        0   \n",
       "1                                      0                        0   \n",
       "\n",
       "   Learning Objects [Lecture Note]  Learning Objects [Educational game]  \\\n",
       "0                                0                                    0   \n",
       "1                                0                                    0   \n",
       "\n",
       "   Learning Objects [Video]  Learning Objects [Audio-recorded lecture]  \\\n",
       "0                         0                                          0   \n",
       "1                         0                                          0   \n",
       "\n",
       "   Learning Objects [Animated instruction]  \\\n",
       "0                                        1   \n",
       "1                                        1   \n",
       "\n",
       "   Learning Objects [Real object model]  Learning Objects [Mind Map]  \\\n",
       "0                                     1                            1   \n",
       "1                                     1                            1   \n",
       "\n",
       "   Learning Objects [Multimedia content]  Learning Objects [Interactive Tool]  \\\n",
       "0                                      0                                    1   \n",
       "1                                      0                                    1   \n",
       "\n",
       "   Learning Objects [Technology-supported learning include computer-based training systems]  \\\n",
       "0                                                  1                                          \n",
       "1                                                  1                                          \n",
       "\n",
       "   Learning Objects [Intelligent computer-aided instruction systems]  \n",
       "0                                                  1                  \n",
       "1                                                  1                  "
      ]
     },
     "execution_count": 15,
     "metadata": {},
     "output_type": "execute_result"
    }
   ],
   "source": [
    "predictions = pd.DataFrame({col: classifier.predict(data) for col, classifier in knn_model.items()})\n",
    "predictions.head()"
   ]
  },
  {
   "cell_type": "code",
   "execution_count": null,
   "id": "e10117c3",
   "metadata": {},
   "outputs": [],
   "source": []
  }
 ],
 "metadata": {
  "kernelspec": {
   "display_name": "Python 3 (ipykernel)",
   "language": "python",
   "name": "python3"
  },
  "language_info": {
   "codemirror_mode": {
    "name": "ipython",
    "version": 3
   },
   "file_extension": ".py",
   "mimetype": "text/x-python",
   "name": "python",
   "nbconvert_exporter": "python",
   "pygments_lexer": "ipython3",
   "version": "3.9.18"
  }
 },
 "nbformat": 4,
 "nbformat_minor": 5
}
